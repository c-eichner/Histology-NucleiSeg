{
 "cells": [
  {
   "cell_type": "markdown",
   "id": "c635f7dc",
   "metadata": {},
   "source": [
    "# CNN Model Generation \n",
    "\n",
    "To segment the Nuclei, I will employ the Convolutional Neuronal Network \"U-Net\". This architecture is capable of performing image segmentations in 2D image data. \n",
    "\n",
    "The U-Net was introduced in Ronneberger O et al., 2015. The architecture of the U-Net entails a convolutional encoder, decoder scheme, with skip connections between layers. \n",
    "\n",
    "The U-Net has proven highly efficient in performing segmentation type tasks of images.  \n"
   ]
  },
  {
   "cell_type": "code",
   "execution_count": 10,
   "id": "e84eddde",
   "metadata": {},
   "outputs": [],
   "source": [
    "# Import pytorch\n",
    "import torch"
   ]
  },
  {
   "cell_type": "code",
   "execution_count": 11,
   "id": "7bb9b3c7",
   "metadata": {},
   "outputs": [],
   "source": [
    "class DoubleConv(torch.nn.Module):\n",
    "    \"\"\"\n",
    "    Helper Class which implements the intermediate Convolutions\n",
    "    Such a double convolution step is also applied in Ronneberger 2015\n",
    "    \"\"\"\n",
    "    def __init__(self, in_channels, out_channels):\n",
    "        \n",
    "        super().__init__()\n",
    "        self.step = torch.nn.Sequential(torch.nn.Conv2d(in_channels, out_channels, 3, padding=1),\n",
    "                                        torch.nn.ReLU(),\n",
    "                                        torch.nn.Conv2d(out_channels, out_channels, 3, padding=1),\n",
    "                                        torch.nn.ReLU())\n",
    "        \n",
    "    def forward(self, X):\n",
    "        return self.step(X)"
   ]
  },
  {
   "cell_type": "code",
   "execution_count": 12,
   "id": "b052002a",
   "metadata": {},
   "outputs": [],
   "source": [
    "class UNet(torch.nn.Module):\n",
    "    def __init__(self):\n",
    "        super().__init__()\n",
    "        \n",
    "        # Encoder\n",
    "        self.layer1 = DoubleConv(3, 64)\n",
    "        self.layer2 = DoubleConv(64, 128)\n",
    "        self.layer3 = DoubleConv(128, 256)\n",
    "        self.layer4 = DoubleConv(256, 512)\n",
    "        \n",
    "        # Decoder\n",
    "        self.layer5 = DoubleConv(512+256, 256)\n",
    "        self.layer6 = DoubleConv(256+128, 128)\n",
    "        self.layer7 = DoubleConv(128+64, 64)\n",
    "        self.layer8 = torch.nn.Conv2d(64, 1, 1)\n",
    "        \n",
    "        self.maxpool = torch.nn.MaxPool2d(2)\n",
    "        \n",
    "    def forward(self, x):\n",
    "        \n",
    "        #############\n",
    "        # Encoder\n",
    "        #############\n",
    "        \n",
    "        # Double convolution\n",
    "        x1 = self.layer1(x)\n",
    "        # Dimensionality Reduction by Maxpooling \n",
    "        x1m = self.maxpool(x1)\n",
    "        \n",
    "        # Repeated Application\n",
    "        x2 = self.layer2(x1m)\n",
    "        x2m = self.maxpool(x2)\n",
    "        \n",
    "        x3 = self.layer3(x2m)\n",
    "        x3m = self.maxpool(x3)\n",
    "        \n",
    "        x4 = self.layer4(x3m)\n",
    "\n",
    "        #############\n",
    "        # Decoder\n",
    "        #############\n",
    "        \n",
    "        # Upsampling of lower resolution data\n",
    "        x5 = torch.nn.Upsample(scale_factor=2, mode=\"bilinear\")(x4)\n",
    "        # Including 'skipped connection', output from layer 3\n",
    "        x5 = torch.cat([x5, x3], dim=1)\n",
    "        # Double Convolution\n",
    "        x5 = self.layer5(x5)\n",
    "        \n",
    "        # Repeated Application\n",
    "        x6 = torch.nn.Upsample(scale_factor=2, mode=\"bilinear\")(x5)\n",
    "        x6 = torch.cat([x6, x2], dim=1)\n",
    "        x6 = self.layer6(x6)\n",
    "        \n",
    "        x7 = torch.nn.Upsample(scale_factor=2, mode=\"bilinear\")(x6)\n",
    "        x7 = torch.cat([x7, x1], dim=1)\n",
    "        x7 = self.layer7(x7)\n",
    "        \n",
    "        ret = self.layer8(x7)\n",
    "        \n",
    "        return ret"
   ]
  },
  {
   "cell_type": "markdown",
   "id": "17e99bab",
   "metadata": {},
   "source": [
    "Let's try out the U-Net Architecture on a simple random dataset"
   ]
  },
  {
   "cell_type": "code",
   "execution_count": 28,
   "id": "25e6073f",
   "metadata": {},
   "outputs": [],
   "source": [
    "model = UNet()"
   ]
  },
  {
   "cell_type": "code",
   "execution_count": 24,
   "id": "234644a8",
   "metadata": {},
   "outputs": [
    {
     "data": {
      "text/plain": [
       "torch.Size([1, 1, 512, 512])"
      ]
     },
     "execution_count": 24,
     "metadata": {},
     "output_type": "execute_result"
    }
   ],
   "source": [
    "random_input = torch.randn(1, 3, 512, 512)\n",
    "output = model(random_input)\n",
    "output.shape"
   ]
  },
  {
   "cell_type": "markdown",
   "id": "5bdcae75",
   "metadata": {},
   "source": [
    "The Full U-Net includes one additional downsampling layer. This additional layer is implemented in the following manner:"
   ]
  },
  {
   "cell_type": "code",
   "execution_count": 9,
   "id": "8dea9f63",
   "metadata": {},
   "outputs": [],
   "source": [
    "class UNet_Full(torch.nn.Module):\n",
    "    def __init__(self):\n",
    "        super().__init__()\n",
    "        \n",
    "        # Encoder\n",
    "        self.e_layer1 = DoubleConv(3, 64)\n",
    "        self.e_layer2 = DoubleConv(64, 128)\n",
    "        self.e_layer3 = DoubleConv(128, 256)\n",
    "        self.e_layer4 = DoubleConv(256, 512)\n",
    "        self.e_layer5 = DoubleConv(512, 1024)\n",
    "        \n",
    "        # Decoder\n",
    "        self.d_layer6 = DoubleConv(1024+512, 512)\n",
    "        self.d_layer7 = DoubleConv(512+256, 256)\n",
    "        self.d_layer8 = DoubleConv(256+128, 128)\n",
    "        self.d_layer9 = DoubleConv(128+64, 64)\n",
    "        self.d_layer10 = torch.nn.Conv2d(64, 1, 1)\n",
    "        \n",
    "        self.maxpool = torch.nn.MaxPool2d(2)\n",
    "        \n",
    "    def forward(self, x):\n",
    "        \n",
    "        x1 = self.e_layer1(x)\n",
    "        x1m = self.maxpool(x1)\n",
    "        \n",
    "        x2 = self.e_layer2(x1m)\n",
    "        x2m = self.maxpool(x2)\n",
    "        \n",
    "        x3 = self.e_layer3(x2m)\n",
    "        x3m = self.maxpool(x3)\n",
    "        \n",
    "        x4 = self.e_layer4(x3m)\n",
    "        x4m = self.maxpool(x4)\n",
    "        \n",
    "        x5 = self.e_layer5(x4m)\n",
    "        \n",
    "        x6 = torch.nn.Upsample(scale_factor=2, mode=\"bilinear\")(x5)\n",
    "        x6 = torch.cat([x6, x4], dim=1)\n",
    "        x6 = self.d_layer6(x6)\n",
    "        \n",
    "        x7 = torch.nn.Upsample(scale_factor=2, mode=\"bilinear\")(x6)\n",
    "        x7 = torch.cat([x7, x3], dim=1)\n",
    "        x7 = self.d_layer7(x7)\n",
    "\n",
    "        x8 = torch.nn.Upsample(scale_factor=2, mode=\"bilinear\")(x7)\n",
    "        x8 = torch.cat([x8, x2], dim=1)\n",
    "        x8 = self.d_layer8(x8)\n",
    "\n",
    "        x9 = torch.nn.Upsample(scale_factor=2, mode=\"bilinear\")(x8)\n",
    "        x9 = torch.cat([x9, x1], dim=1)\n",
    "        x9 = self.d_layer9(x9)\n",
    "        \n",
    "        ret = self.d_layer10(x9)\n",
    "        return ret"
   ]
  },
  {
   "cell_type": "markdown",
   "id": "b8eb0b67",
   "metadata": {},
   "source": [
    "Again, let's try it out on a pure random tensor "
   ]
  },
  {
   "cell_type": "code",
   "execution_count": 5,
   "id": "37d3eb94",
   "metadata": {},
   "outputs": [
    {
     "name": "stderr",
     "output_type": "stream",
     "text": [
      "/home/cornelius/miniconda3/envs/pytorchenv/lib/python3.7/site-packages/torch/nn/functional.py:3613: UserWarning: Default upsampling behavior when mode=bilinear is changed to align_corners=False since 0.4.0. Please specify align_corners=True if the old behavior is desired. See the documentation of nn.Upsample for details.\n",
      "  \"See the documentation of nn.Upsample for details.\".format(mode)\n"
     ]
    },
    {
     "data": {
      "text/plain": [
       "torch.Size([1, 1, 512, 512])"
      ]
     },
     "execution_count": 5,
     "metadata": {},
     "output_type": "execute_result"
    }
   ],
   "source": [
    "model = UNet_Full()\n",
    "\n",
    "random_input = torch.randn(1, 3, 512, 512)\n",
    "output = model(random_input)\n",
    "output.shape"
   ]
  }
 ],
 "metadata": {
  "kernelspec": {
   "display_name": "Python 3",
   "language": "python",
   "name": "python3"
  },
  "language_info": {
   "codemirror_mode": {
    "name": "ipython",
    "version": 3
   },
   "file_extension": ".py",
   "mimetype": "text/x-python",
   "name": "python",
   "nbconvert_exporter": "python",
   "pygments_lexer": "ipython3",
   "version": "3.7.0"
  }
 },
 "nbformat": 4,
 "nbformat_minor": 5
}
